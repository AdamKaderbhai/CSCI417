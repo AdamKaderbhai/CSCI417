{
 "cells": [
  {
   "cell_type": "markdown",
   "metadata": {},
   "source": [
    "# Problem6"
   ]
  },
  {
   "cell_type": "code",
   "execution_count": 12,
   "metadata": {},
   "outputs": [
    {
     "name": "stdout",
     "output_type": "stream",
     "text": [
      "2\n"
     ]
    }
   ],
   "source": [
    "def recursive_count_vowels(s):\n",
    "    if not s:  \n",
    "        return 0\n",
    "    return (1 if s[0].lower() in \"aeiou\" else 0) + recursive_count_vowels(s[1:])\n",
    "\n",
    "\n",
    "print(recursive_count_vowels(\"apple\"))  \n",
    "\n"
   ]
  },
  {
   "cell_type": "markdown",
   "metadata": {},
   "source": [
    "# Problem 7"
   ]
  },
  {
   "cell_type": "code",
   "execution_count": null,
   "metadata": {},
   "outputs": [],
   "source": [
    "# Recursive\n",
    "def recursive(n):\n",
    "    if n == 0:\n",
    "        return 2\n",
    "    elif n == 1:\n",
    "        return 3\n",
    "    elif n == 2:\n",
    "        return recursive(1) + 2 * recursive(0)  \n",
    "    else:\n",
    "        return recursive(n - 1) + 2 * recursive(n - 3)\n",
    "    \n",
    "\n",
    "# Iterative\n",
    "def iterative(n):\n",
    "    if n == 0:\n",
    "        return 2\n",
    "    elif n == 1:\n",
    "        return 3\n",
    "    elif n == 2:\n",
    "        return 3 + 2 * 2  \n",
    "    \n",
    "    a = [2, 3, 3 + 2 * 2]  \n",
    "    for i in range(3, n + 1):\n",
    "        a_n = a[i - 1] + 2 * a[i - 3]\n",
    "        a.append(a_n)\n",
    "    \n",
    "\n",
    "\n",
    "# matrix multiplication\n",
    "import numpy as np\n",
    "\n",
    "def matrix(n):\n",
    "    if n == 0:\n",
    "        return 2\n",
    "    elif n == 1:\n",
    "        return 3\n",
    "    elif n == 2:\n",
    "        return 3 + 2 * 2 \n",
    "    \n",
    "    \n",
    "    M = np.array([[1, 0, 2],\n",
    "                  [1, 0, 0],\n",
    "                  [0, 1, 0]])\n",
    "    \n",
    "    \n",
    "    initial_vector = np.array([[3 + 2 * 2], [3], [2]])\n",
    "\n",
    "    \n",
    "    Mn = np.linalg.matrix_power(M, n - 2)\n",
    "    result = np.dot(Mn, initial_vector)\n",
    "\n",
    "    return result[0][0]  \n",
    "\n",
    "\n"
   ]
  }
 ],
 "metadata": {
  "kernelspec": {
   "display_name": "base",
   "language": "python",
   "name": "python3"
  },
  "language_info": {
   "codemirror_mode": {
    "name": "ipython",
    "version": 3
   },
   "file_extension": ".py",
   "mimetype": "text/x-python",
   "name": "python",
   "nbconvert_exporter": "python",
   "pygments_lexer": "ipython3",
   "version": "3.12.4"
  }
 },
 "nbformat": 4,
 "nbformat_minor": 2
}
