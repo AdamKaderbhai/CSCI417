{
 "cells": [
  {
   "cell_type": "code",
   "execution_count": 19,
   "metadata": {},
   "outputs": [
    {
     "name": "stdout",
     "output_type": "stream",
     "text": [
      "3\n"
     ]
    }
   ],
   "source": [
    "def Coin_Change(coin_list, N, C):\n",
    "\n",
    "    coin_list = (1, 2, 4)\n",
    "\n",
    "    N = 10 \n",
    "    dp = [float('inf')] * (N + 1)\n",
    "    dp[0] = 0\n",
    "\n",
    "    for i in range(1, N + 1):\n",
    "        for coin in coin_list:\n",
    "            if i >= coin and coin != C:  # Ensure the specific coin C is not used\n",
    "                dp[i] = min(dp[i], dp[i - coin] + 1)\n",
    "\n",
    "    return dp[N] if dp[N] != float('inf') else -1\n",
    "\n",
    "# test\n",
    "print(Coin_Change([1, 2, 4], 10, 1))  # 3\n"
   ]
  },
  {
   "cell_type": "code",
   "execution_count": 20,
   "metadata": {},
   "outputs": [
    {
     "name": "stdout",
     "output_type": "stream",
     "text": [
      "True\n",
      "False\n",
      "True\n",
      "True\n"
     ]
    }
   ],
   "source": [
    "def palindrome(s):\n",
    "    return s == s[::-1]\n",
    "\n",
    "# test\n",
    "print(palindrome('racecar'))  \n",
    "print(palindrome('hello'))  \n",
    "print(palindrome('madam'))  \n",
    "print(palindrome('nursesrun'))  \n"
   ]
  },
  {
   "cell_type": "code",
   "execution_count": 7,
   "metadata": {},
   "outputs": [
    {
     "name": "stdout",
     "output_type": "stream",
     "text": [
      "2\n",
      "4\n",
      "1\n"
     ]
    }
   ],
   "source": [
    "def decimal_to_binary(n):\n",
    "    binary = ''\n",
    "    while n > 0:\n",
    "        binary = str(n % 2) + binary\n",
    "        n = n // 2\n",
    "    return binary\n",
    "\n",
    "def count_ones_in_binary(n):\n",
    "    binary = decimal_to_binary(n)\n",
    "    return binary.count('1')\n",
    "\n",
    "# test\n",
    "print(count_ones_in_binary(5))  # 2\n",
    "print(count_ones_in_binary(15))  # 4\n",
    "print(count_ones_in_binary(8))  # 1"
   ]
  }
 ],
 "metadata": {
  "kernelspec": {
   "display_name": "base",
   "language": "python",
   "name": "python3"
  },
  "language_info": {
   "codemirror_mode": {
    "name": "ipython",
    "version": 3
   },
   "file_extension": ".py",
   "mimetype": "text/x-python",
   "name": "python",
   "nbconvert_exporter": "python",
   "pygments_lexer": "ipython3",
   "version": "3.12.4"
  }
 },
 "nbformat": 4,
 "nbformat_minor": 2
}
