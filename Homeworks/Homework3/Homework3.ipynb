{
 "cells": [
  {
   "cell_type": "markdown",
   "metadata": {},
   "source": [
    "\n",
    "# Problem 3\n",
    "Given a list of numbers in random order, write an algorithm that works in O(nlog(n))\n",
    " to find the kth smallest number in the list.\n",
    "\n",
    "Can you improve the algorithm from the previous problem to be linear? Explain."
   ]
  },
  {
   "cell_type": "code",
   "execution_count": 11,
   "metadata": {},
   "outputs": [
    {
     "name": "stdout",
     "output_type": "stream",
     "text": [
      "1\n"
     ]
    }
   ],
   "source": [
    "def find_kth_smallest(nums, k):\n",
    "    \n",
    "    nums.sort()  \n",
    "    \n",
    "    \n",
    "    return nums[k - 1] \n",
    "\n",
    "\n",
    "print(find_kth_smallest([1, 2, 3, 4, 5, 6, 7, 8, 9, 10], 1)) \n",
    "\n",
    "\n"
   ]
  },
  {
   "cell_type": "markdown",
   "metadata": {},
   "source": [
    "is it possible to find the k-th smallest element in O(n) time complexity? Yes"
   ]
  },
  {
   "cell_type": "markdown",
   "metadata": {},
   "source": [
    "# Problem 4\n",
    "\n",
    "A triangular number is a number that can be arranged in the shape of an\n",
    "equilateral triangle. Mathematically, n is a triangular number if we can find a positive\n",
    "integer k such that\n",
    "n = k(k + 1)/2 .\n",
    "\n",
    "The first few triangular numbers are described in the picture below.\n",
    "Write a function to check whether a given number n is triangualr or not. What is the\n",
    "big O-performance of your program?"
   ]
  },
  {
   "cell_type": "code",
   "execution_count": 12,
   "metadata": {},
   "outputs": [
    {
     "name": "stdout",
     "output_type": "stream",
     "text": [
      "1\n"
     ]
    }
   ],
   "source": [
    "\n",
    "\n",
    "def find_kth_smallest_linear(nums, k):\n",
    "\n",
    "    min_num = min(nums)  # O(n)\n",
    "    max_num = max(nums)  # O(n)\n",
    "\n",
    "    freq = [0] * (max_num - min_num + 1)  # O(n)\n",
    "    \n",
    "\n",
    "    for num in nums:  # O(n)\n",
    "        freq[num - min_num] += 1\n",
    "    \n",
    "\n",
    "    count = 0\n",
    "    for i in range(len(freq)):  # O(n)\n",
    "        count += freq[i]\n",
    "        if count >= k:\n",
    "            return i + min_num\n",
    "        \n",
    "# Test cases\n",
    "print(find_kth_smallest_linear([3, 1, 4, 1, 5, 9, 2, 6, 5, 3, 5], 2))  \n",
    "\n",
    "# 5O(n) = O(n)"
   ]
  },
  {
   "cell_type": "code",
   "execution_count": 13,
   "metadata": {},
   "outputs": [
    {
     "name": "stdout",
     "output_type": "stream",
     "text": [
      "15\n"
     ]
    }
   ],
   "source": [
    "\n",
    "\n",
    "\n",
    "def triangular_number(n):\n",
    "    return n * (n + 1) // 2\n",
    "\n",
    "print(triangular_number(5))  # 15\n",
    "\n",
    "# The time complexity of the triangular_number function is O(1) "
   ]
  },
  {
   "cell_type": "markdown",
   "metadata": {},
   "source": [
    "# Problem 5\n",
    "\n",
    "Let am be a sequence given by the following recursive formula\n",
    "a0 = 2, a1 = 5, am= 5am−1 −6am−2 for m ≥2.\n",
    "\n",
    "The following questions are considered to be independent from each other (though, if you\n",
    "want to use one to solve the others, that is fine).1\n",
    "\n",
    "(1) Write a function to calculate the kth term of this sequence. You function should\n",
    "take k as the argument and return ak.\n",
    "\n",
    "(2) Given a number n. Write a function to check whether n belongs to this sequence\n",
    "(namely, there exists k such that ak= n). For example, 13 belongs to this sequence\n",
    "because a2 = 13. On the other hand, 20 is not a member of this sequence. Use\n",
    "a count variable inside your function to estimate the number of assignments in\n",
    "your function for n = 102, 103, 104, 105, 106, 107. What do you think is the big O-\n",
    "performance of your algorithm?\n",
    "\n",
    "(3) What if I tell you that the general formula for amis am= 2m+ 3m."
   ]
  },
  {
   "cell_type": "code",
   "execution_count": 14,
   "metadata": {},
   "outputs": [
    {
     "name": "stdout",
     "output_type": "stream",
     "text": [
      "2\n",
      "5\n",
      "13\n",
      "35\n",
      "97\n",
      "275\n",
      "793\n",
      "2315\n",
      "6817\n",
      "20195\n",
      "60073\n"
     ]
    }
   ],
   "source": [
    "#Part 1\n",
    "def calculate_kth_term(k):\n",
    "    if k == 0:\n",
    "        return 2\n",
    "    elif k == 1:\n",
    "        return 5\n",
    "    else:\n",
    "        a_minus_2, a_minus_1 = 2, 5\n",
    "        for _ in range(2, k + 1):\n",
    "            a_current = 5 * a_minus_1 - 6 * a_minus_2\n",
    "            a_minus_2, a_minus_1 = a_minus_1, a_current\n",
    "        return a_current\n",
    "    \n",
    "# Test cases\n",
    "test_cases = [0, 1, 2, 3, 4, 5, 6, 7, 8, 9, 10]\n",
    "\n",
    "for k in test_cases:\n",
    "    print(calculate_kth_term(k))"
   ]
  },
  {
   "cell_type": "code",
   "execution_count": 15,
   "metadata": {},
   "outputs": [
    {
     "name": "stdout",
     "output_type": "stream",
     "text": [
      "{13: True}\n"
     ]
    }
   ],
   "source": [
    "# Part 2\n",
    "def belongs_to_sequence(n):\n",
    "    a_minus_2, a_minus_1 = 2, 5\n",
    "    count = 0\n",
    "    \n",
    "    if n == a_minus_2 or n == a_minus_1:\n",
    "        return True, count\n",
    "    \n",
    "    while True:\n",
    "        a_current = 5 * a_minus_1 - 6 * a_minus_2\n",
    "        count += 1\n",
    "        if a_current == n:\n",
    "            return True\n",
    "        elif a_current > n:\n",
    "            return False\n",
    "        a_minus_2, a_minus_1 = a_minus_1, a_current\n",
    "\n",
    "# Test cases\n",
    "test_values = [13]\n",
    "results = {val: belongs_to_sequence(val) for val in test_values}\n",
    "print(results)\n",
    "\n",
    "#The algorithm runs in O(log n) time because the sequence grows exponentially as O(3^k), requiring approximately log₃(n) iterations to reach or surpass n, while using O(1) space.\n",
    "\n"
   ]
  },
  {
   "cell_type": "code",
   "execution_count": 16,
   "metadata": {},
   "outputs": [
    {
     "name": "stdout",
     "output_type": "stream",
     "text": [
      "2\n",
      "5\n",
      "13\n",
      "35\n",
      "97\n",
      "275\n",
      "793\n",
      "2315\n",
      "6817\n",
      "20195\n",
      "60073\n"
     ]
    }
   ],
   "source": [
    "# Part 3\n",
    "\n",
    "def calculate_kth_term_general_formula(k):\n",
    "    return 2**k + 3**k\n",
    "\n",
    "# Test cases\n",
    "for k in test_cases:\n",
    "    print(calculate_kth_term_general_formula(k))\n",
    "\n",
    "\n",
    "\n"
   ]
  },
  {
   "cell_type": "code",
   "execution_count": 17,
   "metadata": {},
   "outputs": [
    {
     "name": "stdout",
     "output_type": "stream",
     "text": [
      "{5: True, 13: True, 29: False, 50: False, 80: False}\n"
     ]
    }
   ],
   "source": [
    "def belongs_to_sequence(k):\n",
    "    m = 0\n",
    "    while True:\n",
    "        a_m = 2**m + 3**m  \n",
    "        \n",
    "        if a_m == k:\n",
    "            return True  \n",
    "        elif a_m > k:\n",
    "            return False  \n",
    "        \n",
    "        m += 1  \n",
    "\n",
    "# Test cases\n",
    "test_values = [5, 13, 29, 50, 80]  # Some numbers to check\n",
    "results = {val: belongs_to_sequence(val) for val in test_values}\n",
    "print(results)\n",
    "\n",
    "#The function runs in O(log k) time because the sequence grows exponentially as O(3^m), requiring approximately log₃(k) iterations to determine if  k  is in the sequence,"
   ]
  }
 ],
 "metadata": {
  "kernelspec": {
   "display_name": "base",
   "language": "python",
   "name": "python3"
  },
  "language_info": {
   "codemirror_mode": {
    "name": "ipython",
    "version": 3
   },
   "file_extension": ".py",
   "mimetype": "text/x-python",
   "name": "python",
   "nbconvert_exporter": "python",
   "pygments_lexer": "ipython3",
   "version": "3.12.4"
  }
 },
 "nbformat": 4,
 "nbformat_minor": 2
}
