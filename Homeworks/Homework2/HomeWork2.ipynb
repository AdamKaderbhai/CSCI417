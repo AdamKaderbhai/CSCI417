{
 "cells": [
  {
   "cell_type": "markdown",
   "metadata": {},
   "source": [
    "# Problem 1.\n",
    "\n",
    "In class, we discussed the modified Euclidean algorithm. Namely, for a, b > 0\n",
    "we can write\n",
    "b = aq + r\n",
    "where |r|≤ a/2. \n",
    "\n",
    "Furthermore, we know that\n",
    "gcd(b, a) = gcd(a, |r|).\n",
    "\n",
    "(1) Write a function that take a, b as input and return |r|.\n",
    "\n",
    "(2) Write a new function using the previous function to calculate the gcd of a and b.\n",
    "\n"
   ]
  },
  {
   "cell_type": "code",
   "execution_count": 38,
   "metadata": {},
   "outputs": [
    {
     "name": "stdout",
     "output_type": "stream",
     "text": [
      "leastabsremainder(5, 10) = 0\n"
     ]
    }
   ],
   "source": [
    "#1.)\n",
    "def leastabsremainder(a, b):\n",
    "    q = b // a\n",
    "    r = b - (a*q)\n",
    "\n",
    "    if abs(r) > abs(a)/2:\n",
    "        return r - a\n",
    "    elif abs(r) <= abs(a)/2:\n",
    "        return r\n",
    "        \n",
    "   \n",
    "test_cases = [\n",
    "    (5, 10)\n",
    "]\n",
    "\n",
    "# Run the test cases\n",
    "for a, b in test_cases:\n",
    "    result = leastabsremainder(a, b)\n",
    "    print(f\"leastabsremainder({a}, {b}) = {result}\")"
   ]
  },
  {
   "cell_type": "code",
   "execution_count": 34,
   "metadata": {},
   "outputs": [
    {
     "ename": "KeyboardInterrupt",
     "evalue": "",
     "output_type": "error",
     "traceback": [
      "\u001b[0;31m---------------------------------------------------------------------------\u001b[0m",
      "\u001b[0;31mKeyboardInterrupt\u001b[0m                         Traceback (most recent call last)",
      "Cell \u001b[0;32mIn[34], line 11\u001b[0m\n\u001b[1;32m      7\u001b[0m test_cases \u001b[38;5;241m=\u001b[39m [\n\u001b[1;32m      8\u001b[0m     (\u001b[38;5;241m7\u001b[39m,\u001b[38;5;241m20\u001b[39m)\n\u001b[1;32m      9\u001b[0m ]\n\u001b[1;32m     10\u001b[0m \u001b[38;5;28;01mfor\u001b[39;00m a, b \u001b[38;5;129;01min\u001b[39;00m test_cases:\n\u001b[0;32m---> 11\u001b[0m     result \u001b[38;5;241m=\u001b[39m greatestcommondivisor(a, b)\n\u001b[1;32m     12\u001b[0m     \u001b[38;5;28mprint\u001b[39m(\u001b[38;5;124mf\u001b[39m\u001b[38;5;124m\"\u001b[39m\u001b[38;5;124mgreatestcommondivisor(\u001b[39m\u001b[38;5;132;01m{\u001b[39;00ma\u001b[38;5;132;01m}\u001b[39;00m\u001b[38;5;124m, \u001b[39m\u001b[38;5;132;01m{\u001b[39;00mb\u001b[38;5;132;01m}\u001b[39;00m\u001b[38;5;124m) = \u001b[39m\u001b[38;5;132;01m{\u001b[39;00mresult\u001b[38;5;132;01m}\u001b[39;00m\u001b[38;5;124m\"\u001b[39m)\n",
      "Cell \u001b[0;32mIn[34], line 4\u001b[0m, in \u001b[0;36mgreatestcommondivisor\u001b[0;34m(a, b)\u001b[0m\n\u001b[1;32m      2\u001b[0m \u001b[38;5;28;01mdef\u001b[39;00m \u001b[38;5;21mgreatestcommondivisor\u001b[39m(a, b):\n\u001b[1;32m      3\u001b[0m     \u001b[38;5;28;01mwhile\u001b[39;00m b \u001b[38;5;241m!=\u001b[39m \u001b[38;5;241m0\u001b[39m:\n\u001b[0;32m----> 4\u001b[0m         a, b \u001b[38;5;241m=\u001b[39m a, leastabsremainder(a, b)\n\u001b[1;32m      5\u001b[0m     \u001b[38;5;28;01mreturn\u001b[39;00m \u001b[38;5;28mabs\u001b[39m(a)\n",
      "Cell \u001b[0;32mIn[33], line 6\u001b[0m, in \u001b[0;36mleastabsremainder\u001b[0;34m(a, b)\u001b[0m\n\u001b[1;32m      3\u001b[0m q \u001b[38;5;241m=\u001b[39m b \u001b[38;5;241m/\u001b[39m\u001b[38;5;241m/\u001b[39m a\n\u001b[1;32m      4\u001b[0m r \u001b[38;5;241m=\u001b[39m b \u001b[38;5;241m-\u001b[39m (a\u001b[38;5;241m*\u001b[39mq)\n\u001b[0;32m----> 6\u001b[0m \u001b[38;5;28;01mif\u001b[39;00m \u001b[38;5;28mabs\u001b[39m(r) \u001b[38;5;241m>\u001b[39m \u001b[38;5;28mabs\u001b[39m(a) \u001b[38;5;241m/\u001b[39m\u001b[38;5;241m2\u001b[39m:\n\u001b[1;32m      7\u001b[0m     \u001b[38;5;28;01mreturn\u001b[39;00m r \u001b[38;5;241m-\u001b[39m a\n\u001b[1;32m      8\u001b[0m \u001b[38;5;28;01melif\u001b[39;00m \u001b[38;5;28mabs\u001b[39m(r) \u001b[38;5;241m<\u001b[39m\u001b[38;5;241m=\u001b[39m \u001b[38;5;28mabs\u001b[39m(a)\u001b[38;5;241m/\u001b[39m\u001b[38;5;241m2\u001b[39m:\n",
      "\u001b[0;31mKeyboardInterrupt\u001b[0m: "
     ]
    }
   ],
   "source": [
    "#2.)\n",
    "def greatestcommondivisor(a, b):\n",
    "    while b != 0:\n",
    "        a, b = a, leastabsremainder(a, b)\n",
    "    return abs(a)\n",
    "\n",
    "test_cases = [\n",
    "    (7,20)\n",
    "]\n",
    "for a, b in test_cases:\n",
    "    result = greatestcommondivisor(a, b)\n",
    "    print(f\"greatestcommondivisor({a}, {b}) = {result}\")\n",
    "\n",
    "\n",
    "\n",
    "    \n"
   ]
  },
  {
   "cell_type": "markdown",
   "metadata": {},
   "source": [
    "# Problem 2.\n",
    "\n",
    "Write a function named numeric values(a list) that takes a list as input and\n",
    "returns a new list with only the numeric elements. Numeric values include both integers\n",
    "and floating-point numbers. For example\n",
    "numeric_values(\"1\", \"apple\", 1, 1.2, -4])\n",
    "should return [1, 1.2, −4]."
   ]
  },
  {
   "cell_type": "code",
   "execution_count": 58,
   "metadata": {},
   "outputs": [
    {
     "name": "stdout",
     "output_type": "stream",
     "text": [
      "[1, 1.2, -4, 5]\n"
     ]
    }
   ],
   "source": [
    "def numeric_values(a_list):\n",
    "    new_list = [i for i in a_list if type(i) in (int, float)]\n",
    "    print(new_list)\n",
    "   \n",
    "\n",
    "a_list =  [\"1\", \"apple\", 1, 1.2, -4, 5, \"hi\"]\n",
    "numeric_values(a_list)"
   ]
  },
  {
   "cell_type": "markdown",
   "metadata": {},
   "source": [
    "# Problem 3.\n",
    "\n",
    "Write a function named remove element(a list, element) that takes a list and\n",
    "an element as input and returns a new list with all occurrences of that element removed.\n",
    "For example\n",
    "removed_element ([0, \"test\", 1, \"apple\", 0, 1.1], 0)\n",
    "should return\n",
    "[\"test\", 1, \"apple\", 1.1]"
   ]
  },
  {
   "cell_type": "code",
   "execution_count": 64,
   "metadata": {},
   "outputs": [
    {
     "name": "stdout",
     "output_type": "stream",
     "text": [
      "[0, 1, 'apple', 0, 1.1]\n"
     ]
    }
   ],
   "source": [
    "def removed_element(a_list, element):\n",
    "    removed = [i for i in a_list if i != element]\n",
    "    print(removed)\n",
    "\n",
    "a_list = [0, \"test\", 1, \"apple\", 0, 1.1]\n",
    "element = \"test\"\n",
    "removed_element(a_list, element)\n",
    "    \n",
    "    "
   ]
  },
  {
   "cell_type": "markdown",
   "metadata": {},
   "source": [
    "# Problem 4. \n",
    "Write a function named higher than average(d) that takes a dictionary d as\n",
    "input. In this dictionary d, the keys represent students enrolled in Chem 101, and the\n",
    "values represent their midterm scores. The function should return a list of students who\n",
    "scored above the average midterm score. For example, for\n",
    "d = {\n",
    "\"Alice\": 85,\n",
    "\"Bob\": 78,\n",
    "\"Charlie\": 92,\n",
    "\"Daisy\": 88,\n",
    "\"Ethan\": 76}\n",
    "1\n",
    "higher_than_average(d)\n",
    "the average score is 83.8. As a result, the function should return the list\n",
    "[\"Alice\", \"Charlie\", \"Daisy\"]"
   ]
  },
  {
   "cell_type": "code",
   "execution_count": 80,
   "metadata": {},
   "outputs": [
    {
     "name": "stdout",
     "output_type": "stream",
     "text": [
      "Average =  83.8\n",
      "{'Alice', 'Daisy', 'Charlie'}\n"
     ]
    }
   ],
   "source": [
    "def higher_than_average(d):\n",
    "    new_list = [i for i in d if sum(d.values())/len(d) < d[i]]\n",
    "    print(\"Average = \", sum(d.values())/len(d))\n",
    "    print(new_list)\n",
    "\n",
    "d = {\n",
    "\"Alice\": 85,\n",
    "\"Bob\": 78,\n",
    "\"Charlie\": 92,\n",
    "\"Daisy\": 88,\n",
    "\"Ethan\": 76}\n",
    "\n",
    "higher_than_average(d)\n"
   ]
  },
  {
   "cell_type": "markdown",
   "metadata": {},
   "source": [
    "# Problem 5. \n",
    "\n",
    "Write a function update inventory(inventory, new shipment) that takes two\n",
    "dictionaries as input.\n",
    "\n",
    "• inventory: A dictionary representing current stock (e.g., {\"apple\": 10, \"banana\":\n",
    "5, \"orange\": 7}).\n",
    "• new shipment: A dictionary representing new items arriving (e.g., {\"banana\":\n",
    "10, \"orange\": 5, \"mango\": 3}).\n",
    "The function should update the inventory with the quantities from new shipment. If\n",
    "an item in the shipment is not in the inventory, add it. The function should return the\n",
    "updated inventory. For example\n",
    "inventory = {\"apple\": 10, \"banana\": 5, \"orange\": 7}\n",
    "new_shipment = {\"banana\": 10, \"orange\": 5, \"mango\": 3}\n",
    "update_inventory(inventory , new_shipment)\n",
    "should return\n",
    "{\"apple\": 10, \"banana\": 15, \"orange\": 12, \"mango\": 3}\n",
    "2"
   ]
  },
  {
   "cell_type": "code",
   "execution_count": 91,
   "metadata": {},
   "outputs": [
    {
     "name": "stdout",
     "output_type": "stream",
     "text": [
      "{'apples': 15, 'bananas': 5, 'oranges': 7}\n"
     ]
    }
   ],
   "source": [
    "def update_inventory(inventory, new_shipment):\n",
    "    for i in new_shipment:\n",
    "        if i in inventory:\n",
    "            inventory[i] += new_shipment[i]\n",
    "        else:\n",
    "            inventory[i] = new_shipment[i]\n",
    "        \n",
    "    print(inventory)\n",
    "\n",
    "inventory = {\"apples\": 10, \"bananas\": 5}\n",
    "new_shipment = {\"apples\": 5, \"oranges\": 7}\n",
    "update_inventory(inventory, new_shipment)\n",
    "\n",
    "\n",
    "\n"
   ]
  },
  {
   "cell_type": "code",
   "execution_count": 15,
   "metadata": {},
   "outputs": [],
   "source": [
    "\n",
    "class ComplexNumber:\n",
    "    def __init__(self, real, imaginary):\n",
    "        self.real = real\n",
    "        self.imaginary = imaginary\n",
    "\n",
    "    def __add__(self, other):\n",
    "        return ComplexNumber(self.real + other.real, self.imaginary + other.imaginary)\n",
    "    \n",
    "    def mul(self, other):\n",
    "        return ComplexNumber(self.real * other.real - self.imaginary * other.imaginary, self.real * other.imaginary + self.imaginary * other.real)\n",
    "    \n",
    "    def is_zer0(self):\n",
    "        return self.real == 0 and self.imaginary == 0\n",
    "    \n",
    "    def is_real(self):\n",
    "        return self.imaginary == 0\n",
    "    \n",
    "    def is_pure_imaginary(self):\n",
    "        return self.real == 0\n",
    "    \n",
    "    def modulus(self):\n",
    "\n",
    "        return (self.real**2 + self.imaginary**2)**0.5\n",
    "    \n",
    "    def __str__(self):\n",
    "        return f\"{self.real} + {self.imaginary}i\""
   ]
  }
 ],
 "metadata": {
  "kernelspec": {
   "display_name": "base",
   "language": "python",
   "name": "python3"
  },
  "language_info": {
   "codemirror_mode": {
    "name": "ipython",
    "version": 3
   },
   "file_extension": ".py",
   "mimetype": "text/x-python",
   "name": "python",
   "nbconvert_exporter": "python",
   "pygments_lexer": "ipython3",
   "version": "3.12.4"
  }
 },
 "nbformat": 4,
 "nbformat_minor": 2
}
