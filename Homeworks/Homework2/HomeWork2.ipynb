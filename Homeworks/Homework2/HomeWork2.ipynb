{
 "cells": [
  {
   "cell_type": "markdown",
   "metadata": {},
   "source": [
    "# Problem 1.\n",
    "\n",
    "In class, we discussed the modified Euclidean algorithm. Namely, for a, b > 0\n",
    "we can write\n",
    "b = aq + r\n",
    "where |r|≤ a/2. \n",
    "\n",
    "Furthermore, we know that\n",
    "gcd(b, a) = gcd(a, |r|).\n",
    "\n",
    "(1) Write a function that take a, b as input and return |r|.\n",
    "\n",
    "(2) Write a new function using the previous function to calculate the gcd of a and b.\n",
    "\n"
   ]
  },
  {
   "cell_type": "code",
   "execution_count": 16,
   "metadata": {},
   "outputs": [
    {
     "name": "stdout",
     "output_type": "stream",
     "text": [
      "7\n"
     ]
    }
   ],
   "source": [
    "def LeastAbsReminder(a,b):\n",
    "    #q = b // a\n",
    "    r = b % a\n",
    "    if abs(r) > a // 2:\n",
    "        r = r - a\n",
    "        if r < 0:\n",
    "            r = r + a\n",
    "        return r\n",
    "    else:\n",
    "        return r\n",
    "\n",
    "def GreatestCommonDivisor(a,b):\n",
    "    if a == 0:\n",
    "        return b\n",
    "    return GreatestCommonDivisor (LeastAbsReminder(a,b), a) #\n",
    "\n",
    "print(GreatestCommonDivisor(14,7))"
   ]
  },
  {
   "cell_type": "markdown",
   "metadata": {},
   "source": [
    "# Problem 2.\n",
    "\n",
    "Write a function named numeric values(a list) that takes a list as input and\n",
    "returns a new list with only the numeric elements. Numeric values include both integers\n",
    "and floating-point numbers. For example\n",
    "numeric_values(\"1\", \"apple\", 1, 1.2, -4])\n",
    "should return [1, 1.2, −4]."
   ]
  },
  {
   "cell_type": "code",
   "execution_count": 17,
   "metadata": {},
   "outputs": [
    {
     "name": "stdout",
     "output_type": "stream",
     "text": [
      "[1, 1.2, -4, 5]\n"
     ]
    }
   ],
   "source": [
    "def numeric_values(a_list):\n",
    "    new_list = [i for i in a_list if type(i) in (int, float)]\n",
    "    print(new_list)\n",
    "   \n",
    "\n",
    "a_list =  [\"1\", \"apple\", 1, 1.2, -4, 5, \"hi\"]\n",
    "numeric_values(a_list)"
   ]
  },
  {
   "cell_type": "markdown",
   "metadata": {},
   "source": [
    "# Problem 3.\n",
    "\n",
    "Write a function named remove element(a list, element) that takes a list and\n",
    "an element as input and returns a new list with all occurrences of that element removed.\n",
    "For example\n",
    "removed_element ([0, \"test\", 1, \"apple\", 0, 1.1], 0)\n",
    "should return\n",
    "[\"test\", 1, \"apple\", 1.1]"
   ]
  },
  {
   "cell_type": "code",
   "execution_count": 18,
   "metadata": {},
   "outputs": [
    {
     "name": "stdout",
     "output_type": "stream",
     "text": [
      "[0, 1, 'apple', 0, 1.1]\n"
     ]
    }
   ],
   "source": [
    "def removed_element(a_list, element):\n",
    "    removed = [i for i in a_list if i != element]\n",
    "    print(removed)\n",
    "\n",
    "a_list = [0, \"test\", 1, \"apple\", 0, 1.1]\n",
    "element = \"test\"\n",
    "removed_element(a_list, element)\n",
    "    \n",
    "    "
   ]
  },
  {
   "cell_type": "markdown",
   "metadata": {},
   "source": [
    "# Problem 4. \n",
    "Write a function named higher than average(d) that takes a dictionary d as\n",
    "input. In this dictionary d, the keys represent students enrolled in Chem 101, and the\n",
    "values represent their midterm scores. The function should return a list of students who\n",
    "scored above the average midterm score. For example, for\n",
    "d = {\n",
    "\"Alice\": 85,\n",
    "\"Bob\": 78,\n",
    "\"Charlie\": 92,\n",
    "\"Daisy\": 88,\n",
    "\"Ethan\": 76}\n",
    "1\n",
    "higher_than_average(d)\n",
    "the average score is 83.8. As a result, the function should return the list\n",
    "[\"Alice\", \"Charlie\", \"Daisy\"]"
   ]
  },
  {
   "cell_type": "code",
   "execution_count": 19,
   "metadata": {},
   "outputs": [
    {
     "name": "stdout",
     "output_type": "stream",
     "text": [
      "Average =  83.8\n",
      "['Alice', 'Charlie', 'Daisy']\n"
     ]
    }
   ],
   "source": [
    "def higher_than_average(d):\n",
    "    new_list = [i for i in d if sum(d.values())/len(d) < d[i]]\n",
    "    print(\"Average = \", sum(d.values())/len(d))\n",
    "    print(new_list)\n",
    "\n",
    "d = {\n",
    "\"Alice\": 85,\n",
    "\"Bob\": 78,\n",
    "\"Charlie\": 92,\n",
    "\"Daisy\": 88,\n",
    "\"Ethan\": 76}\n",
    "\n",
    "higher_than_average(d)\n"
   ]
  },
  {
   "cell_type": "markdown",
   "metadata": {},
   "source": [
    "# Problem 5. \n",
    "\n",
    "Write a function update inventory(inventory, new shipment) that takes two\n",
    "dictionaries as input.\n",
    "\n",
    "• inventory: A dictionary representing current stock (e.g., {\"apple\": 10, \"banana\":\n",
    "5, \"orange\": 7}).\n",
    "• new shipment: A dictionary representing new items arriving (e.g., {\"banana\":\n",
    "10, \"orange\": 5, \"mango\": 3}).\n",
    "The function should update the inventory with the quantities from new shipment. If\n",
    "an item in the shipment is not in the inventory, add it. The function should return the\n",
    "updated inventory. For example\n",
    "inventory = {\"apple\": 10, \"banana\": 5, \"orange\": 7}\n",
    "new_shipment = {\"banana\": 10, \"orange\": 5, \"mango\": 3}\n",
    "update_inventory(inventory , new_shipment)\n",
    "should return\n",
    "{\"apple\": 10, \"banana\": 15, \"orange\": 12, \"mango\": 3}\n",
    "2"
   ]
  },
  {
   "cell_type": "code",
   "execution_count": 20,
   "metadata": {},
   "outputs": [
    {
     "name": "stdout",
     "output_type": "stream",
     "text": [
      "{'apples': 15, 'bananas': 5, 'oranges': 7}\n"
     ]
    }
   ],
   "source": [
    "def update_inventory(inventory, new_shipment):\n",
    "    for i in new_shipment:\n",
    "        if i in inventory:\n",
    "            inventory[i] += new_shipment[i]\n",
    "        else:\n",
    "            inventory[i] = new_shipment[i]\n",
    "        \n",
    "    print(inventory)\n",
    "\n",
    "inventory = {\"apples\": 10, \"bananas\": 5}\n",
    "new_shipment = {\"apples\": 5, \"oranges\": 7}\n",
    "update_inventory(inventory, new_shipment)\n",
    "\n",
    "\n",
    "\n"
   ]
  },
  {
   "cell_type": "markdown",
   "metadata": {},
   "source": [
    "# Problem 6. \n",
    "\n",
    "In class, we talked about creating a class for Complex numbers. Recall that\n",
    "a complex number is a number of the form a + bi where a, b are real numbers and i is an\n",
    "imaginary number such that i2= −1. Addition and multiplication are done algebraically.\n",
    "\n",
    "For example:\n",
    "(a + bi)(c + di) = ac + adi + bci + bdi2= (ac −bd) + (bc + ad)i.\n",
    "\n",
    "Write a class named ComplexNumber that accepts parameters a and b (the real and\n",
    "imaginary parts, respectively). Implement the following methods within the class:\n",
    "\n",
    "• add (self, other): add two complex numbers.\n",
    "• mul (self, other): multiply two complex numbers.\n",
    "• is zero(self): Determine if the complex number is equal to zero.\n",
    "• is real(self): Check if the complex number is a real number (i.e., b = 0).\n",
    "• is pure imaginary(self): Check if the complex number is a pure imaginary num-\n",
    "ber (i.e., a = 0).\n",
    "• modulus(self): Calculate the modulus (magnitude) of the complex number, which\n",
    "is given by the formula sqrt(a^2+ b^2)\n"
   ]
  },
  {
   "cell_type": "code",
   "execution_count": 21,
   "metadata": {},
   "outputs": [],
   "source": [
    "\n",
    "class ComplexNumber:\n",
    "    def __init__(self, real, imaginary):\n",
    "        self.real = real\n",
    "        self.imaginary = imaginary\n",
    "\n",
    "    def __add__(self, other):\n",
    "        return ComplexNumber(self.real + other.real, self.imaginary + other.imaginary)\n",
    "    \n",
    "    def mul(self, other):\n",
    "        return ComplexNumber(self.real * other.real - self.imaginary * other.imaginary, self.real * other.imaginary + self.imaginary * other.real)\n",
    "    \n",
    "    def is_zer0(self):\n",
    "        return self.real == 0 and self.imaginary == 0\n",
    "    \n",
    "    def is_real(self):\n",
    "        return self.imaginary == 0\n",
    "    \n",
    "    def is_pure_imaginary(self):\n",
    "        return self.real == 0\n",
    "    \n",
    "    def modulus(self):\n",
    "\n",
    "        return (self.real**2 + self.imaginary**2)**0.5\n",
    "    \n",
    "    def __str__(self):\n",
    "        return f\"{self.real} + {self.imaginary}i\""
   ]
  },
  {
   "cell_type": "code",
   "execution_count": 22,
   "metadata": {},
   "outputs": [
    {
     "name": "stdout",
     "output_type": "stream",
     "text": [
      "-5 + 10i\n"
     ]
    }
   ],
   "source": [
    "C1 = ComplexNumber(1, 2)\n",
    "C2 = ComplexNumber(3, 4)\n",
    "\n",
    "C3 = C1.mul(C2) # Using the __add__ method\n",
    "\n",
    "print(C3)"
   ]
  }
 ],
 "metadata": {
  "kernelspec": {
   "display_name": "base",
   "language": "python",
   "name": "python3"
  },
  "language_info": {
   "codemirror_mode": {
    "name": "ipython",
    "version": 3
   },
   "file_extension": ".py",
   "mimetype": "text/x-python",
   "name": "python",
   "nbconvert_exporter": "python",
   "pygments_lexer": "ipython3",
   "version": "3.12.4"
  }
 },
 "nbformat": 4,
 "nbformat_minor": 2
}
