{
 "cells": [
  {
   "cell_type": "markdown",
   "metadata": {},
   "source": [
    "# Problem 1\n",
    "\n",
    "A number n > 1 is called a perfect power if there exists two positive integers\n",
    "m, k such that k > 1 and n = mk. For example, 9 is a perfect power because 9 = 32.\n",
    "Similary, 8 is a perfect number because 8 = 23. Write a program to check whether a given\n",
    "number n is a perfect power. What is the big O performance of your program? Hint:\n",
    "Suppose that n = mk. Show that m ≤√n and k ≤log2(n).\n"
   ]
  },
  {
   "cell_type": "code",
   "execution_count": null,
   "metadata": {},
   "outputs": [
    {
     "name": "stdout",
     "output_type": "stream",
     "text": [
      "1 is NOT a perfect power.\n",
      "2 is NOT a perfect power.\n",
      "3 is NOT a perfect power.\n",
      "4 is a perfect power: 2^2 = 4\n",
      "5 is NOT a perfect power.\n",
      "6 is NOT a perfect power.\n",
      "7 is NOT a perfect power.\n",
      "8 is a perfect power: 2^3 = 8\n",
      "9 is a perfect power: 3^2 = 9\n",
      "10 is NOT a perfect power.\n",
      "11 is NOT a perfect power.\n",
      "12 is NOT a perfect power.\n",
      "13 is NOT a perfect power.\n",
      "14 is NOT a perfect power.\n",
      "15 is NOT a perfect power.\n",
      "16 is a perfect power: 2^4 = 16\n",
      "17 is NOT a perfect power.\n",
      "18 is NOT a perfect power.\n",
      "19 is NOT a perfect power.\n",
      "20 is NOT a perfect power.\n",
      "21 is NOT a perfect power.\n",
      "22 is NOT a perfect power.\n",
      "23 is NOT a perfect power.\n",
      "24 is NOT a perfect power.\n",
      "25 is a perfect power: 5^2 = 25\n",
      "26 is NOT a perfect power.\n",
      "27 is a perfect power: 3^3 = 27\n",
      "28 is NOT a perfect power.\n",
      "29 is NOT a perfect power.\n",
      "30 is NOT a perfect power.\n",
      "31 is NOT a perfect power.\n",
      "32 is a perfect power: 2^5 = 32\n",
      "33 is NOT a perfect power.\n",
      "34 is NOT a perfect power.\n",
      "35 is NOT a perfect power.\n",
      "36 is a perfect power: 6^2 = 36\n",
      "37 is NOT a perfect power.\n",
      "38 is NOT a perfect power.\n",
      "39 is NOT a perfect power.\n",
      "40 is NOT a perfect power.\n",
      "41 is NOT a perfect power.\n",
      "42 is NOT a perfect power.\n",
      "43 is NOT a perfect power.\n",
      "44 is NOT a perfect power.\n",
      "45 is NOT a perfect power.\n",
      "46 is NOT a perfect power.\n",
      "47 is NOT a perfect power.\n",
      "48 is NOT a perfect power.\n",
      "49 is a perfect power: 7^2 = 49\n",
      "50 is NOT a perfect power.\n",
      "51 is NOT a perfect power.\n",
      "52 is NOT a perfect power.\n",
      "53 is NOT a perfect power.\n",
      "54 is NOT a perfect power.\n",
      "55 is NOT a perfect power.\n",
      "56 is NOT a perfect power.\n",
      "57 is NOT a perfect power.\n",
      "58 is NOT a perfect power.\n",
      "59 is NOT a perfect power.\n",
      "60 is NOT a perfect power.\n"
     ]
    }
   ],
   "source": [
    "# Solution 1\n",
    "def is_perfect_power(n):\n",
    "    if n <= 1:\n",
    "        return False, None\n",
    "\n",
    "    for m in range(2, n + 1):  \n",
    "        k = 2  \n",
    "        while True:\n",
    "            power = m ** k\n",
    "            if power == n:\n",
    "                return True, (m, k)\n",
    "            if power > n:\n",
    "                break\n",
    "            k += 1\n",
    "\n",
    "    return False, None\n",
    "\n",
    "# Test Cases\n",
    "for n in range(1, 61):\n",
    "    result, details = is_perfect_power(n)\n",
    "    if result:\n",
    "        print(f\"{n} is a perfect power: {details[0]}^{details[1]} = {n}\")\n",
    "    else:\n",
    "        print(f\"{n} is NOT a perfect power.\")\n",
    "\n",
    "# The Big O notation for this solution is O(n^2) because of:\n",
    "# 1. The outer loop that goes from 2 to n\n",
    "# 2. The inner loop that goes from 2 to n\n",
    "\n",
    "\n"
   ]
  },
  {
   "cell_type": "code",
   "execution_count": null,
   "metadata": {},
   "outputs": [
    {
     "name": "stdout",
     "output_type": "stream",
     "text": [
      "1 is NOT a perfect power.\n",
      "2 is NOT a perfect power.\n",
      "3 is NOT a perfect power.\n",
      "4 is a perfect power: 2^2 = 4\n",
      "5 is NOT a perfect power.\n",
      "6 is NOT a perfect power.\n",
      "7 is NOT a perfect power.\n",
      "8 is a perfect power: 2^3 = 8\n",
      "9 is a perfect power: 3^2 = 9\n",
      "10 is NOT a perfect power.\n",
      "11 is NOT a perfect power.\n",
      "12 is NOT a perfect power.\n",
      "13 is NOT a perfect power.\n",
      "14 is NOT a perfect power.\n",
      "15 is NOT a perfect power.\n",
      "16 is a perfect power: 2^4 = 16\n",
      "17 is NOT a perfect power.\n",
      "18 is NOT a perfect power.\n",
      "19 is NOT a perfect power.\n",
      "20 is NOT a perfect power.\n",
      "21 is NOT a perfect power.\n",
      "22 is NOT a perfect power.\n",
      "23 is NOT a perfect power.\n",
      "24 is NOT a perfect power.\n",
      "25 is a perfect power: 5^2 = 25\n",
      "26 is NOT a perfect power.\n",
      "27 is a perfect power: 3^3 = 27\n",
      "28 is NOT a perfect power.\n",
      "29 is NOT a perfect power.\n",
      "30 is NOT a perfect power.\n",
      "31 is NOT a perfect power.\n",
      "32 is a perfect power: 2^5 = 32\n",
      "33 is NOT a perfect power.\n",
      "34 is NOT a perfect power.\n",
      "35 is NOT a perfect power.\n",
      "36 is a perfect power: 6^2 = 36\n",
      "37 is NOT a perfect power.\n",
      "38 is NOT a perfect power.\n",
      "39 is NOT a perfect power.\n",
      "40 is NOT a perfect power.\n",
      "41 is NOT a perfect power.\n",
      "42 is NOT a perfect power.\n",
      "43 is NOT a perfect power.\n",
      "44 is NOT a perfect power.\n",
      "45 is NOT a perfect power.\n",
      "46 is NOT a perfect power.\n",
      "47 is NOT a perfect power.\n",
      "48 is NOT a perfect power.\n",
      "49 is a perfect power: 7^2 = 49\n",
      "50 is NOT a perfect power.\n",
      "51 is NOT a perfect power.\n",
      "52 is NOT a perfect power.\n",
      "53 is NOT a perfect power.\n",
      "54 is NOT a perfect power.\n",
      "55 is NOT a perfect power.\n",
      "56 is NOT a perfect power.\n",
      "57 is NOT a perfect power.\n",
      "58 is NOT a perfect power.\n",
      "59 is NOT a perfect power.\n",
      "60 is NOT a perfect power.\n"
     ]
    }
   ],
   "source": [
    "# Solution 2\n",
    "def is_perfect_power(n):\n",
    "    if n <= 1:\n",
    "        return False, None\n",
    "\n",
    "    for m in range(2, int(n**0.5) + 1):  \n",
    "        k = 2  \n",
    "        while True:\n",
    "            power = m ** k\n",
    "            if power == n:\n",
    "                return True, (m, k)\n",
    "            if power > n:\n",
    "                break\n",
    "            k += 1\n",
    "\n",
    "    return False, None\n",
    "\n",
    "# Test Cases\n",
    "for n in range(1, 61):\n",
    "    result, details = is_perfect_power(n)\n",
    "    if result:\n",
    "        print(f\"{n} is a perfect power: {details[0]}^{details[1]} = {n}\")\n",
    "    else:\n",
    "        print(f\"{n} is NOT a perfect power.\")\n",
    "\n",
    "\n",
    "\n",
    "# The Big O notation for this solution is O(n^1.5) because of:\n",
    "# 1. The outer loop that goes from 2 to sqrt(n)\n",
    "# 2. The inner loop that goes from 2 to n\n",
    "\n"
   ]
  },
  {
   "cell_type": "markdown",
   "metadata": {},
   "source": [
    "# Problem 2. \n",
    "Given two strings, ransom note and magazine, write a function named\n",
    "can construct(ransom note, magazine) that returns True if ransom note can be con-\n",
    "structed by using the letters from magazine, and False otherwise. For example\n",
    "can_construct(\"abc\", \"abcc\") #true\n",
    "can_construct(\"abc\", \"abbea\") # False\n",
    "What is the time complexity of your algorithm?"
   ]
  },
  {
   "cell_type": "code",
   "execution_count": null,
   "metadata": {},
   "outputs": [
    {
     "name": "stdout",
     "output_type": "stream",
     "text": [
      "True\n"
     ]
    }
   ],
   "source": [
    "def can_construct(ransom_note, magazine):\n",
    "    for char in ransom_note:\n",
    "        if char not in magazine:\n",
    "            return False\n",
    "        magazine = magazine.replace(char, \"\", 1)\n",
    "    return True\n",
    "\n",
    "print(can_construct(\"abc\", \"abbec\")) # False\n",
    "\n",
    "\n",
    "# The time complexity of this solution is O(n^2) because of the replace method inside the for loop.\n"
   ]
  },
  {
   "cell_type": "markdown",
   "metadata": {},
   "source": [
    "# Problem 3.\n",
    "\n",
    "(1) Given a list alist and a specified target value, write a function named two sum(alist,\n",
    "target) that returns True if there exists a pair of elements (with different indices)\n",
    "in the list whose sum equals the target? For example\n",
    "two_sum ([2, 2, 3, 5, 8], 8)) # True\n",
    "two_sum ([2, 2, 3, 5, 8], 16)) # False\n",
    "two_sum ([2, 2, 3, 5, 8], 4)) # True\n",
    "What is the time complexity of your algorithm?\n",
    "\n",
    "(2) Can we do better if we know that the list is sorted? What is the time complexity\n",
    "of your algorithm?"
   ]
  },
  {
   "cell_type": "code",
   "execution_count": null,
   "metadata": {},
   "outputs": [
    {
     "name": "stdout",
     "output_type": "stream",
     "text": [
      "False\n"
     ]
    }
   ],
   "source": [
    "def twosum(alist, target):\n",
    "    for i in range(len(alist)):\n",
    "        for j in range(i+1, len(alist)):\n",
    "            if alist[i] + alist[j] == target:\n",
    "                return [i, j], True\n",
    "                \n",
    "    return False\n",
    "\n",
    "# Test Case\n",
    "print(twosum([1,7,11,15], 9))\n",
    "\n",
    "# The time complexity of the above solution is O(n^2) because we have two nested loops.\n",
    "\n",
    "# If the list is sorted, we can use the two-pointer technique to solve the problem in O(n) time complexity. Because the list is sorted, we can start from the beginning and the end of the list and move the pointers towards each other as follows:\n",
    "# 1. If the sum of the two numbers is less than the target, we move the left pointer to the right.\n",
    "# 2. If the sum of the two numbers is greater than the target, we move the right pointer to the left.\n",
    "# 3. If the sum of the two numbers is equal to the target, we return the indices of the two numbers.\n"
   ]
  },
  {
   "cell_type": "code",
   "execution_count": null,
   "metadata": {},
   "outputs": [
    {
     "name": "stdout",
     "output_type": "stream",
     "text": [
      "False\n"
     ]
    }
   ],
   "source": [
    "# Solution 2\n",
    "\n",
    "def twosum(alist, target):\n",
    "    left = 0\n",
    "    right = len(alist) - 1\n",
    "    while left < right:\n",
    "        if alist[left] + alist[right] == target:\n",
    "            return [left, right], True\n",
    "        elif alist[left] + alist[right] < target:\n",
    "            left += 1\n",
    "        else:\n",
    "            right -= 1\n",
    "    return False\n",
    "\n",
    "#Test Case\n",
    "print(twosum([1,7,11,15], 9))\n",
    "\n",
    "# The time complexity of the above solution is O(n) because we only have one loop."
   ]
  },
  {
   "cell_type": "markdown",
   "metadata": {},
   "source": [
    "# Problem 4. \n",
    "Given a list of numbers. Write a function named non duplicate(alist)\n",
    "that returns a new list of elements that appears exactly one in the list.For example\n",
    "non_duplicate ([1, 2, 1, 3]) #[2,3]\n",
    "non_duplicate ([1,2, 1, 2]) # []\n",
    "\n",
    "What is the time complexity of your algorithm?"
   ]
  },
  {
   "cell_type": "code",
   "execution_count": null,
   "metadata": {},
   "outputs": [
    {
     "name": "stdout",
     "output_type": "stream",
     "text": [
      "1\n"
     ]
    }
   ],
   "source": [
    "# Solution 1\n",
    "def non_duplicate(a_list):\n",
    "    for i in a_list:\n",
    "        if a_list.count(i) == 1:\n",
    "            return i\n",
    "        \n",
    "# Test Case\n",
    "print(non_duplicate([4,3,2,4,1,3,2])) # 1\n",
    "    \n",
    "# Time complexity of the above solution is O(n^2) because we have a nested loop in the count method."
   ]
  },
  {
   "cell_type": "code",
   "execution_count": null,
   "metadata": {},
   "outputs": [
    {
     "name": "stdout",
     "output_type": "stream",
     "text": [
      "[1]\n"
     ]
    }
   ],
   "source": [
    "# Solution 2\n",
    "\n",
    "def non_duplicate(a_list):\n",
    "    return [x for x in a_list if a_list.count(x) == 1]\n",
    "\n",
    "# Test Case\n",
    "print(non_duplicate([4,3,2,4,1,3,2])) # [1]\n",
    "\n",
    "# Time complexity of the above solution is O(n^2) because we have a nested loop in the count method."
   ]
  },
  {
   "cell_type": "markdown",
   "metadata": {},
   "source": [
    "# Problem 5. \n",
    "\n",
    "Write a function named latex checker(file path) that can validate the syntax\n",
    "of a latex document saved as a text file. For simplicity, the function only need to ensure that1\n",
    "all LaTeX environments (i.e., the parts enclosed within \\begin{} and \\end{} commands)\n",
    "are properly matched and nested. Please test your function with two text files that I\n",
    "uploaded to Moodle. What is the big O performance of your algorithm?\n",
    "This problem works with text files so it could get tricky. Becareful with the blacklash\n",
    "symbol (\\) in latex which turns out to be an escape character when read in Python. You\n",
    "may need to use regular expressions or the string method startwith to look for begin and\n",
    "end."
   ]
  },
  {
   "cell_type": "code",
   "execution_count": null,
   "metadata": {},
   "outputs": [
    {
     "name": "stdout",
     "output_type": "stream",
     "text": [
      "True\n",
      "False\n"
     ]
    }
   ],
   "source": [
    "def latex_checker(file_path):\n",
    "    stack = []\n",
    "    with open(file_path, 'r') as file:\n",
    "        latex = file.read()\n",
    "    \n",
    "    for line in latex.splitlines():\n",
    "        if line.startswith(\"\\\\begin{\"):\n",
    "            stack.append(line)\n",
    "        elif line.startswith(\"\\\\end{\"):\n",
    "            if len(stack) == 0 or stack[-1].replace(\"\\\\begin\", \"\\\\end\") != line:\n",
    "                return False\n",
    "            stack.pop()\n",
    "    \n",
    "    return len(stack) == 0\n",
    "\n",
    "# Test Case\n",
    "print(latex_checker(\"latex_test.txt\")) # True\n",
    "print(latex_checker(\"test_2.txt\")) # False\n",
    "\n",
    "\n",
    "# The Big O notation for the above solution is O(n) because we only have one loop which is the for loop that goes through each line in the latex file."
   ]
  },
  {
   "cell_type": "markdown",
   "metadata": {},
   "source": [
    "# Problem 6. \n",
    "\n",
    "In this problem, we work with the Hexadecimal system (base 16). Please\n",
    "read more about it here https://en.wikipedia.org/wiki/Hexadecimal\n",
    "\n",
    "(1) Write a function named convert to decimal(s) that converts a given a number in\n",
    "the Hexadecimal system to the decimal system. For example\n",
    "convert_to_decimal(\"2C7\")\n",
    "should return 711 since\n",
    "2C7 = 2 ×162 + 12 ×161 + 7 = 711.\n",
    "\n",
    "(2) Write a function named convert to hex(n) that converts a given number in the\n",
    "decimal system to its representation in the hexadecimal system. For example\n",
    "convert_to_hex (711)\n",
    "should return 2C7"
   ]
  },
  {
   "cell_type": "code",
   "execution_count": null,
   "metadata": {},
   "outputs": [
    {
     "name": "stdout",
     "output_type": "stream",
     "text": [
      "10\n"
     ]
    }
   ],
   "source": [
    "# Solution 1\n",
    "def convert_to_decimal(hex_num):\n",
    "    # Privided a hexadecimal number e.g 2c7 convert it to decimal\n",
    "\n",
    "    decimal_num = 0\n",
    "    power = 0\n",
    "    for i in range(len(hex_num) - 1, -1, -1):\n",
    "        decimal_num += int(hex_num[i], 16) * (16 ** power)\n",
    "        power += 1\n",
    "    return decimal_num\n",
    "\n",
    "# Test Case\n",
    "print(convert_to_decimal(\"A\")) \n",
    "\n",
    "# The time complexity of the above solution is O(n) because we have one loop that goes through each character in the hexadecimal number.\n",
    "\n",
    "\n"
   ]
  },
  {
   "cell_type": "markdown",
   "metadata": {},
   "source": [
    "# Problem 7. \n",
    "Add a method power(self, n) to the ComplexNumber class described in Home-\n",
    "work 2. This method should have O(log(n)) performance.\n",
    "2\n"
   ]
  },
  {
   "cell_type": "code",
   "execution_count": null,
   "metadata": {},
   "outputs": [
    {
     "name": "stdout",
     "output_type": "stream",
     "text": [
      "8 + 10i\n",
      "-9 + 38i\n",
      "False\n",
      "False\n",
      "False\n",
      "5.0\n",
      "-7 + 24i\n"
     ]
    }
   ],
   "source": [
    "\n",
    "class ComplexNumber:\n",
    "    def __init__(self, real, imaginary):\n",
    "        self.real = real\n",
    "        self.imaginary = imaginary\n",
    "\n",
    "    def __add__(self, other):\n",
    "        return ComplexNumber(self.real + other.real, self.imaginary + other.imaginary)\n",
    "    \n",
    "    def mul(self, other):\n",
    "        return ComplexNumber(self.real * other.real - self.imaginary * other.imaginary, self.real * other.imaginary + self.imaginary * other.real)\n",
    "    \n",
    "    def is_zer0(self):\n",
    "        return self.real == 0 and self.imaginary == 0\n",
    "    \n",
    "    def is_real(self):\n",
    "        return self.imaginary == 0\n",
    "    \n",
    "    def is_pure_imaginary(self):\n",
    "        return self.real == 0\n",
    "    \n",
    "    def modulus(self):\n",
    "\n",
    "        return (self.real**2 + self.imaginary**2)**0.5\n",
    "    \n",
    "    def __str__(self):\n",
    "        return f\"{self.real} + {self.imaginary}i\"\n",
    "    \n",
    "\n",
    "    def power(self, n):\n",
    "        if n == 0:\n",
    "            return ComplexNumber(1, 0)\n",
    "        if n == 1:\n",
    "            return self\n",
    "        if n % 2 == 0:\n",
    "            return self.power(n // 2).mul(self.power(n // 2))\n",
    "        else:\n",
    "            return self.power(n // 2).mul(self.power(n // 2)).mul(self)\n",
    "        # The time complexity of the above solution is O(log n) because we are dividing n by 2 at each step.\n",
    "        \n",
    "# Test Case\n",
    "c1 = ComplexNumber(3, 4)\n",
    "c2 = ComplexNumber(5, 6)\n",
    "\n",
    "print(c1 + c2)\n",
    "print(c1.mul(c2))\n",
    "print(c1.is_zer0())\n",
    "print(c1.is_real())\n",
    "print(c1.is_pure_imaginary())\n",
    "print(c1.modulus())\n",
    "print(c1.power(2))\n",
    "        \n",
    "        "
   ]
  }
 ],
 "metadata": {
  "kernelspec": {
   "display_name": "base",
   "language": "python",
   "name": "python3"
  },
  "language_info": {
   "codemirror_mode": {
    "name": "ipython",
    "version": 3
   },
   "file_extension": ".py",
   "mimetype": "text/x-python",
   "name": "python",
   "nbconvert_exporter": "python",
   "pygments_lexer": "ipython3",
   "version": "3.12.4"
  }
 },
 "nbformat": 4,
 "nbformat_minor": 2
}
