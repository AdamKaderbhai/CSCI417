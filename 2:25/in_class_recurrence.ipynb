{
 "cells": [
  {
   "cell_type": "code",
   "execution_count": 45,
   "metadata": {},
   "outputs": [],
   "source": [
    "import numpy as np"
   ]
  },
  {
   "cell_type": "code",
   "execution_count": 46,
   "metadata": {},
   "outputs": [
    {
     "name": "stdout",
     "output_type": "stream",
     "text": [
      "[ 2  2 -3  7]\n",
      "[ 1  0  2 12]\n",
      "[[1 1]\n",
      " [0 1]]\n",
      "[[ 2  0]\n",
      " [-1  0]]\n",
      "[[ 3  1]\n",
      " [-1  1]]\n",
      "[[2 0]\n",
      " [0 0]]\n",
      "[[ 1  0]\n",
      " [-1  0]]\n",
      "[[1]\n",
      " [2]]\n",
      "(2, 1)\n",
      "\n",
      "[[3]\n",
      " [2]]\n"
     ]
    }
   ],
   "source": [
    "# 1D array\n",
    "\n",
    "a = np.array([1, 2, -1, 4])\n",
    "b = np.array([1, 0, -2, 3])\n",
    "\n",
    "print(a + b)\n",
    "print(a * b)\n",
    "\n",
    "\n",
    "\n",
    "# 2D numpy array matrices\n",
    "\n",
    "A1 = np.array([[1, 1], [0, 1]])\n",
    "print(A1)\n",
    "\n",
    "A2 = np.array([[2, 0], [-1, 0]])\n",
    "print(A2)\n",
    "\n",
    "print(A1 + A2)\n",
    "print(A1 * A2) # This is element-wise multiplication, not matrix multiplication\n",
    "\n",
    "\n",
    "n = np.dot(A1, A2)\n",
    "print(n)\n",
    "\n",
    "\n",
    "# Column Vector of size 2 by \n",
    "\n",
    "v = np.array([[1], [2]])\n",
    "print(v)\n",
    "print(v.shape)\n",
    "\n",
    "print()\n",
    "print(np.dot(A1, v))"
   ]
  },
  {
   "cell_type": "code",
   "execution_count": 47,
   "metadata": {},
   "outputs": [
    {
     "name": "stdout",
     "output_type": "stream",
     "text": [
      "[[1 2]\n",
      " [0 1]]\n"
     ]
    }
   ],
   "source": [
    "def matrix_power(A, m): # A is a square matrix so that we can multiply it by itself n times \n",
    "\n",
    "    p = 1\n",
    "\n",
    "    for i in range(m):\n",
    "        p = np.dot(p, A)\n",
    "    return p \n",
    "\n",
    "B = matrix_power(A1, 2)\n",
    "    \n",
    "print(B)"
   ]
  },
  {
   "cell_type": "code",
   "execution_count": 48,
   "metadata": {},
   "outputs": [],
   "source": [
    "def matrix_power_while(A, m):  \n",
    "\n",
    "    i = 1\n",
    "\n",
    "    while i <= m:\n",
    "        p = np.dot(p,A)\n",
    "     \n",
    "        i += 1\n",
    "    return p"
   ]
  },
  {
   "cell_type": "code",
   "execution_count": 49,
   "metadata": {},
   "outputs": [
    {
     "name": "stdout",
     "output_type": "stream",
     "text": [
      "4\n"
     ]
    }
   ],
   "source": [
    "def number_power(x,n):\n",
    "\n",
    "    p = 1 \n",
    "\n",
    "    while n > 0:\n",
    "        if n % 2 == 1:\n",
    "            p = p * x\n",
    "        x + x*x\n",
    "        n = n // 2\n",
    "    return p\n",
    "\n",
    "print(number_power(2, 3))"
   ]
  },
  {
   "cell_type": "code",
   "execution_count": 50,
   "metadata": {},
   "outputs": [
    {
     "name": "stdout",
     "output_type": "stream",
     "text": [
      "[[ 7 10]\n",
      " [15 22]]\n"
     ]
    }
   ],
   "source": [
    "def matrix_power_fast(A, m):\n",
    "    result = np.eye(A.shape[0], dtype=int)  # Initialize result as the identity matrix\n",
    "    base = A.copy()\n",
    "    \n",
    "    while m > 0:\n",
    "        if m % 2 == 1:\n",
    "            result = np.dot(result, base)\n",
    "        base = np.dot(base, base)\n",
    "        m //= 2\n",
    "    \n",
    "    return result\n",
    "\n",
    "# Define the matrix\n",
    "test_matrix = np.array([[1, 2], [3, 4]])\n",
    "\n",
    "# Test the matrix_power_fast function\n",
    "result = matrix_power_fast(test_matrix, 2)\n",
    "print(result)\n",
    "\n",
    "\n",
    "\n"
   ]
  },
  {
   "cell_type": "code",
   "execution_count": 51,
   "metadata": {},
   "outputs": [
    {
     "ename": "ValueError",
     "evalue": "The truth value of an array with more than one element is ambiguous. Use a.any() or a.all()",
     "output_type": "error",
     "traceback": [
      "\u001b[0;31m---------------------------------------------------------------------------\u001b[0m",
      "\u001b[0;31mValueError\u001b[0m                                Traceback (most recent call last)",
      "Cell \u001b[0;32mIn[51], line 6\u001b[0m\n\u001b[1;32m      4\u001b[0m A \u001b[38;5;241m=\u001b[39m np\u001b[38;5;241m.\u001b[39marray ([[\u001b[38;5;241m1\u001b[39m, \u001b[38;5;241m1\u001b[39m], [\u001b[38;5;241m1\u001b[39m, \u001b[38;5;241m0\u001b[39m]])\n\u001b[1;32m      5\u001b[0m initial_values \u001b[38;5;241m=\u001b[39m np\u001b[38;5;241m.\u001b[39marray([[\u001b[38;5;241m1\u001b[39m], [\u001b[38;5;241m1\u001b[39m]])\n\u001b[0;32m----> 6\u001b[0m power \u001b[38;5;241m=\u001b[39m matrix_power_fast(A, n\u001b[38;5;241m-\u001b[39m\u001b[38;5;241m1\u001b[39m)\n\u001b[1;32m      7\u001b[0m result \u001b[38;5;241m=\u001b[39m np\u001b[38;5;241m.\u001b[39mdot(power, initial_values)\n\u001b[1;32m      8\u001b[0m \u001b[38;5;28;01mreturn\u001b[39;00m result\n",
      "Cell \u001b[0;32mIn[50], line 5\u001b[0m, in \u001b[0;36mmatrix_power_fast\u001b[0;34m(A, m)\u001b[0m\n\u001b[1;32m      2\u001b[0m result \u001b[38;5;241m=\u001b[39m np\u001b[38;5;241m.\u001b[39meye(A\u001b[38;5;241m.\u001b[39mshape[\u001b[38;5;241m0\u001b[39m], dtype\u001b[38;5;241m=\u001b[39m\u001b[38;5;28mint\u001b[39m)  \u001b[38;5;66;03m# Initialize result as the identity matrix\u001b[39;00m\n\u001b[1;32m      3\u001b[0m base \u001b[38;5;241m=\u001b[39m A\u001b[38;5;241m.\u001b[39mcopy()\n\u001b[0;32m----> 5\u001b[0m \u001b[38;5;28;01mwhile\u001b[39;00m m \u001b[38;5;241m>\u001b[39m \u001b[38;5;241m0\u001b[39m:\n\u001b[1;32m      6\u001b[0m     \u001b[38;5;28;01mif\u001b[39;00m m \u001b[38;5;241m%\u001b[39m \u001b[38;5;241m2\u001b[39m \u001b[38;5;241m==\u001b[39m \u001b[38;5;241m1\u001b[39m:\n\u001b[1;32m      7\u001b[0m         result \u001b[38;5;241m=\u001b[39m np\u001b[38;5;241m.\u001b[39mdot(result, base)\n",
      "\u001b[0;31mValueError\u001b[0m: The truth value of an array with more than one element is ambiguous. Use a.any() or a.all()"
     ]
    }
   ],
   "source": [
    "def fibonacci(n):\n",
    "    return 1\n",
    "    \n",
    "A = np.array ([[1, 1], [1, 0]])\n",
    "initial_values = np.array([[1], [1]])\n",
    "power = matrix_power_fast(A, n-1)\n",
    "result = np.dot(power, initial_values)\n",
    "return result\n",
    "\n",
    "print(fibonacci(3))"
   ]
  },
  {
   "cell_type": "code",
   "execution_count": null,
   "metadata": {},
   "outputs": [
    {
     "name": "stdout",
     "output_type": "stream",
     "text": [
      "10\n"
     ]
    }
   ],
   "source": [
    "def recursive(m,n):\n",
    "\n",
    "    # to write a recursive function to calculate the steps needed to move on a grid of size m by n from the top left corner to the bottom right corner\n",
    "\n",
    "    if m == 0 or n == 0:\n",
    "        return 1\n",
    "    else:\n",
    "        return recursive(m-1, n) + recursive(m, n-1)\n",
    "    \n",
    "print(recursive(2,3))\n",
    "\n",
    "# for (m,n) how many function calls are made: 2^(m+n) \n",
    "    "
   ]
  },
  {
   "cell_type": "code",
   "execution_count": null,
   "metadata": {},
   "outputs": [
    {
     "name": "stdout",
     "output_type": "stream",
     "text": [
      "10\n"
     ]
    }
   ],
   "source": [
    "def iterative_solution(m,n):\n",
    "\n",
    "# to write an iterative function to calculate the steps needed to move on a grid of size m by n from the top left corner to the bottom right corner\n",
    "\n",
    "    grid = np.zeros((m+1, n+1), dtype=int) # create a grid of size m+1 by n+1\n",
    "    grid[0,0] = 1 # set the top left corner to 1\n",
    "\n",
    "    for i in range(m+1): # iterate over the rows\n",
    "        for j in range(n+1): # iterate over the columns\n",
    "            if i > 0: # if we are not in the first row\n",
    "                grid[i,j] += grid[i-1,j] # add the value from the cell above\n",
    "            if j > 0: # if we are not in the first column\n",
    "                grid[i,j] += grid[i,j-1] # add the value from the cell to the left\n",
    "    return grid[m,n] # return the value in the bottom right corner\n",
    "\n",
    "print(iterative_solution(2,3)) # 10\n",
    "\n",
    "\n",
    "\n"
   ]
  }
 ],
 "metadata": {
  "kernelspec": {
   "display_name": "base",
   "language": "python",
   "name": "python3"
  },
  "language_info": {
   "codemirror_mode": {
    "name": "ipython",
    "version": 3
   },
   "file_extension": ".py",
   "mimetype": "text/x-python",
   "name": "python",
   "nbconvert_exporter": "python",
   "pygments_lexer": "ipython3",
   "version": "3.12.4"
  }
 },
 "nbformat": 4,
 "nbformat_minor": 2
}
