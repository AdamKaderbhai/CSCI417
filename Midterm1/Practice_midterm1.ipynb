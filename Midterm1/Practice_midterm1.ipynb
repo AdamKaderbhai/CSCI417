{
 "cells": [
  {
   "cell_type": "markdown",
   "metadata": {},
   "source": [
    "# Problem 1. \n",
    "Use the Euclidean algorithm to calculate gcd(120, 26)"
   ]
  },
  {
   "cell_type": "code",
   "execution_count": 3,
   "metadata": {},
   "outputs": [
    {
     "name": "stdout",
     "output_type": "stream",
     "text": [
      "2\n"
     ]
    }
   ],
   "source": [
    "def EuclideanAlgorithm(a, b):\n",
    "    if b == 0:\n",
    "        return a\n",
    "    else:\n",
    "        return EuclideanAlgorithm(b, a % b)\n",
    "\n",
    "Test_case = (120,26)\n",
    "\n",
    "print(EuclideanAlgorithm(*Test_case))"
   ]
  },
  {
   "cell_type": "markdown",
   "metadata": {},
   "source": [
    "# Problem 12. \n",
    "Write a function to check if a number is a prime. Recall that a number n is\n",
    "prime if the only divisors of n are 1 and n. What is the time complexity of your algorithm.\n",
    "For this problem we are assuming that standard opeators such as modulo/multiplication\n",
    "is O(1) (this assumption might not be true if n is really big)"
   ]
  },
  {
   "cell_type": "code",
   "execution_count": null,
   "metadata": {},
   "outputs": [
    {
     "name": "stdout",
     "output_type": "stream",
     "text": [
      "True\n",
      "True\n",
      "False\n",
      "True\n",
      "False\n",
      "True\n",
      "False\n",
      "False\n",
      "False\n",
      "True\n"
     ]
    }
   ],
   "source": [
    "def check_if_prime(n):\n",
    "    for i in range(2, n): \n",
    "        if n % i == 0: \n",
    "            return False\n",
    "    return True\n",
    "\n",
    "test_case = [2, 3, 4, 5, 6, 7, 8, 9, 10, 11]\n",
    "\n",
    "for i in test_case:\n",
    "    print(check_if_prime(i))\n",
    "\n",
    "    # the big O notation for this function is O(n) because the function has to iterate through all the numbers from 2 to n to check if n is prime or not\n"
   ]
  },
  {
   "cell_type": "code",
   "execution_count": 3,
   "metadata": {},
   "outputs": [
    {
     "ename": "NameError",
     "evalue": "name 'n' is not defined",
     "output_type": "error",
     "traceback": [
      "\u001b[0;31m---------------------------------------------------------------------------\u001b[0m",
      "\u001b[0;31mNameError\u001b[0m                                 Traceback (most recent call last)",
      "Cell \u001b[0;32mIn[3], line 1\u001b[0m\n\u001b[0;32m----> 1\u001b[0m i \u001b[38;5;241m=\u001b[39m n \n\u001b[1;32m      2\u001b[0m \u001b[38;5;28;01mwhile\u001b[39;00m i \u001b[38;5;241m>\u001b[39m \u001b[38;5;241m0\u001b[39m:\n\u001b[1;32m      3\u001b[0m     \u001b[38;5;28;01mfor\u001b[39;00m j \u001b[38;5;129;01min\u001b[39;00m \u001b[38;5;28mrange\u001b[39m(i):\n",
      "\u001b[0;31mNameError\u001b[0m: name 'n' is not defined"
     ]
    }
   ],
   "source": [
    "i = n \n",
    "while i > 0:\n",
    "    for j in range(i):\n",
    "\n",
    "        k = i - j\n",
    "\n",
    "    i = i // 2\n"
   ]
  }
 ],
 "metadata": {
  "kernelspec": {
   "display_name": "base",
   "language": "python",
   "name": "python3"
  },
  "language_info": {
   "codemirror_mode": {
    "name": "ipython",
    "version": 3
   },
   "file_extension": ".py",
   "mimetype": "text/x-python",
   "name": "python",
   "nbconvert_exporter": "python",
   "pygments_lexer": "ipython3",
   "version": "3.12.4"
  }
 },
 "nbformat": 4,
 "nbformat_minor": 2
}
