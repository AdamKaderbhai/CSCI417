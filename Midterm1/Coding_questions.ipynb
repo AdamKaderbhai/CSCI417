{
 "cells": [
  {
   "cell_type": "markdown",
   "metadata": {},
   "source": [
    "# Problem 6"
   ]
  },
  {
   "cell_type": "code",
   "execution_count": 21,
   "metadata": {},
   "outputs": [
    {
     "name": "stdout",
     "output_type": "stream",
     "text": [
      "True\n",
      "False\n",
      "True\n",
      "True\n"
     ]
    }
   ],
   "source": [
    "def is_special(n):\n",
    "    a = 0\n",
    "    while a * a <= n: # O(sqrt(n)) because a * a <= n is true for a = 0, 1, 2, ..., sqrt(n)\n",
    "        b = 0\n",
    "        while b * b <= n - a * a: # O(sqrt(n)) because b * b <= n - a * a is true for b = 0, 1, 2, ..., sqrt(n - a * a)\n",
    "            if a * a + b * b == n:\n",
    "                return True\n",
    "            b += 1\n",
    "        a += 1\n",
    "    return False\n",
    "\n",
    "test_case = [2,3,4,5]\n",
    "for i in test_case:\n",
    "    print(is_special(i))\n",
    "\n",
    "    # So the time complexity is O(sqrt(n) * sqrt(n)) = O(n) \n",
    "\n"
   ]
  },
  {
   "cell_type": "markdown",
   "metadata": {},
   "source": [
    "# Problem 7"
   ]
  },
  {
   "cell_type": "code",
   "execution_count": 22,
   "metadata": {},
   "outputs": [
    {
     "name": "stdout",
     "output_type": "stream",
     "text": [
      "3\n"
     ]
    }
   ],
   "source": [
    "def number_divisors(n):\n",
    "    count = 0\n",
    "    for i in range(1, n + 1): # O(n) because the loop runs n times\n",
    "        if n % i == 0:\n",
    "            count += 1\n",
    "    return count\n",
    "\n",
    "print(number_divisors(4)) # 4\n"
   ]
  },
  {
   "cell_type": "code",
   "execution_count": null,
   "metadata": {},
   "outputs": [
    {
     "name": "stdout",
     "output_type": "stream",
     "text": [
      "3\n"
     ]
    }
   ],
   "source": [
    "import math\n",
    "\n",
    "def number_divisor_fast(n):\n",
    "    count = 0\n",
    "    for i in range(1, int(math.sqrt(n)) + 1): # O(sqrt(n)) because the loop runs sqrt(n) times\n",
    "        if n % i == 0:\n",
    "            count += 1\n",
    "            if i != n // i:\n",
    "                count += 1\n",
    "    return count\n",
    "\n",
    "\n",
    "\n",
    "print(number_divisor_fast(4)) # 3"
   ]
  },
  {
   "cell_type": "code",
   "execution_count": 24,
   "metadata": {},
   "outputs": [
    {
     "name": "stdout",
     "output_type": "stream",
     "text": [
      "[1, 4, 9, 16, 25, 36, 49, 64, 81, 100]\n"
     ]
    }
   ],
   "source": [
    "odd_divisors = [i for i in range(1, 101) if int(math.sqrt(i))**2 == i]\n",
    "print(odd_divisors)\n",
    "\n",
    "# All perfect squares"
   ]
  },
  {
   "cell_type": "markdown",
   "metadata": {},
   "source": [
    "# Problem 8"
   ]
  },
  {
   "cell_type": "code",
   "execution_count": null,
   "metadata": {},
   "outputs": [],
   "source": []
  }
 ],
 "metadata": {
  "kernelspec": {
   "display_name": "base",
   "language": "python",
   "name": "python3"
  },
  "language_info": {
   "codemirror_mode": {
    "name": "ipython",
    "version": 3
   },
   "file_extension": ".py",
   "mimetype": "text/x-python",
   "name": "python",
   "nbconvert_exporter": "python",
   "pygments_lexer": "ipython3",
   "version": "3.12.4"
  }
 },
 "nbformat": 4,
 "nbformat_minor": 2
}
