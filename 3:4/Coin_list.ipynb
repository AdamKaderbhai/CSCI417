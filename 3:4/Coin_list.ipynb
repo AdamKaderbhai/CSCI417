{
 "cells": [
  {
   "cell_type": "code",
   "execution_count": 17,
   "metadata": {},
   "outputs": [
    {
     "name": "stdout",
     "output_type": "stream",
     "text": [
      "3\n"
     ]
    }
   ],
   "source": [
    "count = 0\n",
    "\n",
    "def recursive_coin(coin_list, n):\n",
    "\n",
    "    if n in coin_list:\n",
    "        return 1\n",
    "    \n",
    "    if n==0:\n",
    "        return 0    \n",
    "    current_max = float('inf')\n",
    "    for coin in coin_list:\n",
    "        if (n>=coin): \n",
    "            m = recursive_coin(coin_list, n-coin)+1\n",
    "            current_min = min(m, current_max)\n",
    "\n",
    "    return current_min\n",
    "\n",
    "print(recursive_coin([1,2,4], 7))\n",
    "    "
   ]
  },
  {
   "cell_type": "code",
   "execution_count": null,
   "metadata": {},
   "outputs": [
    {
     "name": "stdout",
     "output_type": "stream",
     "text": [
      "2\n",
      "inf\n"
     ]
    }
   ],
   "source": [
    "def iterative_coin(coin_list, n):\n",
    "    dp = [0] + [float('inf')]*n \n",
    "    for i in range(1, n+1):\n",
    "        for coin in coin_list:\n",
    "            if i>=coin:\n",
    "                dp[i] = min(dp[i], dp[i-coin]+1)\n",
    "    return dp[n]\n",
    "\n",
    "print(iterative_coin([1,2,5], 7))\n"
   ]
  },
  {
   "cell_type": "code",
   "execution_count": 20,
   "metadata": {},
   "outputs": [
    {
     "name": "stdout",
     "output_type": "stream",
     "text": [
      "2\n",
      "inf\n"
     ]
    }
   ],
   "source": [
    "def nr_coin(coin_list, n):\n",
    "    solution = [float('inf')]*(n+1)\n",
    "    solution[0] = 0\n",
    "    for i in range(1, n+1):\n",
    "        for value in coin_list:\n",
    "            if (i>=value) and (1 +solution[i-value]<solution[i]):\n",
    "                solution[i] = 1 + solution[i-value]\n",
    "    return solution[n]\n",
    "\n",
    "\n",
    "print(nr_coin([1,2,5], 7))\n",
    "print(nr_coin([2,4,8], 13))"
   ]
  }
 ],
 "metadata": {
  "kernelspec": {
   "display_name": "base",
   "language": "python",
   "name": "python3"
  },
  "language_info": {
   "codemirror_mode": {
    "name": "ipython",
    "version": 3
   },
   "file_extension": ".py",
   "mimetype": "text/x-python",
   "name": "python",
   "nbconvert_exporter": "python",
   "pygments_lexer": "ipython3",
   "version": "3.12.4"
  }
 },
 "nbformat": 4,
 "nbformat_minor": 2
}
